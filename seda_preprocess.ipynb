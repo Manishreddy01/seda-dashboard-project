{
 "cells": [
  {
   "cell_type": "code",
   "execution_count": 2,
   "id": "46f874ed-b994-404c-9cce-55e228f9638e",
   "metadata": {},
   "outputs": [
    {
     "name": "stdout",
     "output_type": "stream",
     "text": [
      "Preprocessing complete. Data saved in two formats:\n",
      "- Long format (better for demographic analysis): seda_processed.csv\n",
      "- Wide format (original structure): seda_wide_processed.csv\n"
     ]
    }
   ],
   "source": [
    "import pandas as pd\n",
    "import numpy as np\n",
    "# STEP 1: Load the dataset\n",
    "# Equivalent to: Connecting source data in Tableau Prep Builder\n",
    "# ----------------------------\n",
    "df = pd.read_csv('/Users/maneshreddy/Downloads/seda_commzone_long_gcs_5.0.csv')\n",
    "# ----------------------------\n",
    "# STEP 2: Clean column names\n",
    "# Equivalent to: Renaming fields for consistency\n",
    "# ----------------------------\n",
    "df.columns = df.columns.str.strip().str.lower()\n",
    "# ----------------------------\n",
    "# STEP 3: Handle missing values\n",
    "# Equivalent to: Cleaning null/empty fields in Tableau Prep\n",
    "# ----------------------------\n",
    "df = df.replace(r'^\\s*$', np.nan, regex=True)  # Replace empty strings with NaN\n",
    "# ----------------------------\n",
    "# STEP 4: Convert data types\n",
    "# Equivalent to: Changing field data types in Tableau Prep\n",
    "# ----------------------------\n",
    "numeric_cols = [col for col in df.columns if col.startswith(('gcs_', 'tot_')) or col in ['grade', 'year']]\n",
    "for col in numeric_cols:\n",
    "    df[col] = pd.to_numeric(df[col], errors='coerce')\n",
    "# ----------------------------\n",
    "# STEP 5: Reshape data to long format\n",
    "# Equivalent to: Pivoting (melt/unpivot) in Tableau Prep\n",
    "# ----------------------------\n",
    "demographics = ['all', 'asn', 'blk', 'ecd', 'fem', 'hsp', 'mal', 'mfg', 'nam', \n",
    "                'nec', 'neg', 'wag', 'wbg', 'whg', 'wht', 'wng']\n",
    "metrics = ['gcs_mn', 'gcs_mn_se', 'tot_asmt']\n",
    "melted_dfs = []\n",
    "for demo in demographics:\n",
    "    demo_cols = [f\"{metric}_{demo}\" for metric in metrics if f\"{metric}_{demo}\" in df.columns]\n",
    "    if not demo_cols:\n",
    "        continue \n",
    "    demo_df = df[['sedacz', 'subject', 'grade', 'year'] + demo_cols].copy()\n",
    "    demo_df['demographic'] = demo\n",
    "    # Rename columns to a common structure (like Tableau Prep field renaming)\n",
    "    col_mapping = {col: col.replace(f\"_{demo}\", \"\") for col in demo_cols}\n",
    "    demo_df.rename(columns=col_mapping, inplace=True)\n",
    "\n",
    "    melted_dfs.append(demo_df)\n",
    "# Combine all long-format tables\n",
    "long_df = pd.concat(melted_dfs, ignore_index=True)\n",
    "# ----------------------------\n",
    "# STEP 6: Add calculated fields\n",
    "# Equivalent to: Calculated Fields in Tableau Prep Builder\n",
    "# ----------------------------\n",
    "demographic_labels = {\n",
    "    'all': 'All Students', 'asn': 'Asian', 'blk': 'Black',\n",
    "    'ecd': 'Economically Disadvantaged', 'fem': 'Female', 'hsp': 'Hispanic',\n",
    "    'mal': 'Male', 'mfg': 'Minority Focus Group', 'nam': 'Native American',\n",
    "    'nec': 'Non-Economically Disadvantaged', 'neg': 'Non-English Speaking',\n",
    "    'wag': 'White (All Grades)', 'wbg': 'White (Below Grade)', 'whg': 'White (High Grade)',\n",
    "    'wht': 'White', 'wng': 'White (Non-Graded)'\n",
    "}\n",
    "long_df['demographic_label'] = long_df['demographic'].map(demographic_labels)\n",
    "\n",
    "# Create subject-grade combo field\n",
    "long_df['subject_grade'] = long_df['subject'].str.upper() + ' Grade ' + long_df['grade'].astype(str)\n",
    "\n",
    "# Create year range bins for timeline grouping\n",
    "long_df['year_range'] = pd.cut(long_df['year'], \n",
    "                              bins=[2008, 2012, 2016, 2020],\n",
    "                              labels=['2009-2012', '2013-2016', '2017-2019'])\n",
    "# ----------------------------\n",
    "# STEP 7: Export Cleaned Outputs\n",
    "# Equivalent to: Output step in Tableau Prep\n",
    "# ----------------------------\n",
    "long_df.to_csv('seda_processed.csv', index=False)            # Long format for dashboard visuals\n",
    "df.to_csv('seda_wide_processed.csv', index=False)            # Wide format for alternate use\n",
    "\n",
    "print(\"✅ Preprocessing complete.\")\n",
    "print(\"- Long format saved as: seda_processed.csv\")\n",
    "print(\"- Wide format saved as: seda_wide_processed.csv\")\n"
   ]
  },
  {
   "cell_type": "code",
   "execution_count": null,
   "id": "d2c8b0c6-d4ef-4c41-89b0-67d7d4d8af53",
   "metadata": {},
   "outputs": [],
   "source": []
  }
 ],
 "metadata": {
  "kernelspec": {
   "display_name": "Python [conda env:base] *",
   "language": "python",
   "name": "conda-base-py"
  },
  "language_info": {
   "codemirror_mode": {
    "name": "ipython",
    "version": 3
   },
   "file_extension": ".py",
   "mimetype": "text/x-python",
   "name": "python",
   "nbconvert_exporter": "python",
   "pygments_lexer": "ipython3",
   "version": "3.12.7"
  }
 },
 "nbformat": 4,
 "nbformat_minor": 5
}
